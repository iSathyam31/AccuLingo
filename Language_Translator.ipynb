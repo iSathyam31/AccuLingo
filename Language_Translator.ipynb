{
 "cells": [
  {
   "cell_type": "code",
   "execution_count": 1,
   "metadata": {
    "collapsed": true
   },
   "outputs": [
    {
     "name": "stdout",
     "output_type": "stream",
     "text": [
      "Requirement already satisfied: ibm_watson in c:\\users\\admin\\appdata\\local\\programs\\python\\python311\\lib\\site-packages (7.0.1)\n",
      "Requirement already satisfied: requests<3.0,>=2.0 in c:\\users\\admin\\appdata\\local\\programs\\python\\python311\\lib\\site-packages (from ibm_watson) (2.31.0)\n",
      "Requirement already satisfied: python-dateutil>=2.5.3 in c:\\users\\admin\\appdata\\local\\programs\\python\\python311\\lib\\site-packages (from ibm_watson) (2.8.2)\n",
      "Requirement already satisfied: websocket-client>=1.1.0 in c:\\users\\admin\\appdata\\local\\programs\\python\\python311\\lib\\site-packages (from ibm_watson) (1.5.1)\n",
      "Requirement already satisfied: ibm-cloud-sdk-core==3.*,>=3.3.6 in c:\\users\\admin\\appdata\\local\\programs\\python\\python311\\lib\\site-packages (from ibm_watson) (3.19.1)\n",
      "Requirement already satisfied: urllib3<3.0.0,>=2.1.0 in c:\\users\\admin\\appdata\\local\\programs\\python\\python311\\lib\\site-packages (from ibm-cloud-sdk-core==3.*,>=3.3.6->ibm_watson) (2.2.1)\n",
      "Requirement already satisfied: PyJWT<3.0.0,>=2.8.0 in c:\\users\\admin\\appdata\\local\\programs\\python\\python311\\lib\\site-packages (from ibm-cloud-sdk-core==3.*,>=3.3.6->ibm_watson) (2.8.0)\n",
      "Requirement already satisfied: six>=1.5 in c:\\users\\admin\\appdata\\local\\programs\\python\\python311\\lib\\site-packages (from python-dateutil>=2.5.3->ibm_watson) (1.16.0)\n",
      "Requirement already satisfied: charset-normalizer<4,>=2 in c:\\users\\admin\\appdata\\local\\programs\\python\\python311\\lib\\site-packages (from requests<3.0,>=2.0->ibm_watson) (3.2.0)\n",
      "Requirement already satisfied: idna<4,>=2.5 in c:\\users\\admin\\appdata\\local\\programs\\python\\python311\\lib\\site-packages (from requests<3.0,>=2.0->ibm_watson) (3.4)\n",
      "Requirement already satisfied: certifi>=2017.4.17 in c:\\users\\admin\\appdata\\local\\programs\\python\\python311\\lib\\site-packages (from requests<3.0,>=2.0->ibm_watson) (2023.7.22)\n"
     ]
    }
   ],
   "source": [
    "!pip install ibm_watson"
   ]
  },
  {
   "cell_type": "markdown",
   "metadata": {},
   "source": [
    "### Authentication"
   ]
  },
  {
   "cell_type": "code",
   "execution_count": 2,
   "metadata": {},
   "outputs": [],
   "source": [
    "API_key = 'I6eCsG3fVH6k-L_4MYAbvgD_eoXk1U480UC8GezkUUcc'\n",
    "url = 'https://api.eu-gb.language-translator.watson.cloud.ibm.com/instances/209d939b-59cb-4001-a707-013244cee735'\n"
   ]
  },
  {
   "cell_type": "code",
   "execution_count": 3,
   "metadata": {},
   "outputs": [],
   "source": [
    "from ibm_watson import LanguageTranslatorV3\n",
    "from ibm_cloud_sdk_core.authenticators import IAMAuthenticator"
   ]
  },
  {
   "cell_type": "code",
   "execution_count": 4,
   "metadata": {},
   "outputs": [],
   "source": [
    "# Authenticating the API key\n",
    "authenticator = IAMAuthenticator(apikey=API_key)\n",
    "\n",
    "# Setting our language translator object\n",
    "langtranslator = LanguageTranslatorV3(\n",
    "    version='2024-05-01',  \n",
    "    authenticator=authenticator\n",
    ")\n",
    "\n",
    "# Establishing the connection with the service\n",
    "langtranslator.set_service_url(url)"
   ]
  },
  {
   "cell_type": "markdown",
   "metadata": {},
   "source": [
    "### Translation"
   ]
  },
  {
   "cell_type": "code",
   "execution_count": 5,
   "metadata": {},
   "outputs": [],
   "source": [
    "translation = langtranslator.translate(text='Hello World',model_id='en-hi')"
   ]
  },
  {
   "cell_type": "code",
   "execution_count": 6,
   "metadata": {},
   "outputs": [
    {
     "data": {
      "text/plain": [
       "{'translations': [{'translation': 'हेलो वर्ल्ड'}],\n",
       " 'word_count': 2,\n",
       " 'character_count': 11}"
      ]
     },
     "execution_count": 6,
     "metadata": {},
     "output_type": "execute_result"
    }
   ],
   "source": [
    "translation.get_result()"
   ]
  },
  {
   "cell_type": "code",
   "execution_count": 7,
   "metadata": {},
   "outputs": [
    {
     "data": {
      "text/plain": [
       "{'translations': [{'translation': 'कृत्रिम बुद्धि उद्योगों को स्वचालित करने, पूर्वानुमानों और विशाल डाटा सेट से अलॉकिंग अंतर्दृष्टि के माध्यम से उद्योगों में क्रांति ला रही है। \\nइसके अनुप्रयोग क्षेत्र में मनोरंजन के क्षेत्र में व्यक्तिगत रूप से की गई सिफारिशों को ध्यान में रखते हुए अपने परिवर्तनकारी शक्ति का प्रदर्शन करते हैं । \\nचूंकि एआई का विकास जारी है, सामाजिक लाभ के लिए अपनी पूरी क्षमता का उपयोग करने के लिए नैतिक विचार और जिम्मेदार तैनाती महत्वपूर्ण है ।'}],\n",
       " 'word_count': 59,\n",
       " 'character_count': 425}"
      ]
     },
     "execution_count": 7,
     "metadata": {},
     "output_type": "execute_result"
    }
   ],
   "source": [
    "## Trying for a bigger text\n",
    "\n",
    "text = '''Artificial intelligence is revolutionizing industries by automating tasks, making predictions, and unlocking insights from vast data sets. \n",
    "Its applications span from healthcare diagnostics to personalized recommendations in entertainment, showcasing its transformative power. \n",
    "As AI continues to evolve, ethical considerations and responsible deployment remain crucial for harnessing its full potential for societal benefit.'''\n",
    "\n",
    "translation = langtranslator.translate(text=text,model_id='en-hi')\n",
    "\n",
    "translation.get_result()"
   ]
  },
  {
   "cell_type": "code",
   "execution_count": 8,
   "metadata": {},
   "outputs": [
    {
     "data": {
      "text/plain": [
       "'कृत्रिम बुद्धि उद्योगों को स्वचालित करने, पूर्वानुमानों और विशाल डाटा सेट से अलॉकिंग अंतर्दृष्टि के माध्यम से उद्योगों में क्रांति ला रही है। \\nइसके अनुप्रयोग क्षेत्र में मनोरंजन के क्षेत्र में व्यक्तिगत रूप से की गई सिफारिशों को ध्यान में रखते हुए अपने परिवर्तनकारी शक्ति का प्रदर्शन करते हैं । \\nचूंकि एआई का विकास जारी है, सामाजिक लाभ के लिए अपनी पूरी क्षमता का उपयोग करने के लिए नैतिक विचार और जिम्मेदार तैनाती महत्वपूर्ण है ।'"
      ]
     },
     "execution_count": 8,
     "metadata": {},
     "output_type": "execute_result"
    }
   ],
   "source": [
    "translation.get_result()['translations'][0]['translation']"
   ]
  },
  {
   "cell_type": "code",
   "execution_count": null,
   "metadata": {},
   "outputs": [],
   "source": []
  }
 ],
 "metadata": {
  "kernelspec": {
   "display_name": "Python 3",
   "language": "python",
   "name": "python3"
  },
  "language_info": {
   "codemirror_mode": {
    "name": "ipython",
    "version": 3
   },
   "file_extension": ".py",
   "mimetype": "text/x-python",
   "name": "python",
   "nbconvert_exporter": "python",
   "pygments_lexer": "ipython3",
   "version": "3.11.7"
  }
 },
 "nbformat": 4,
 "nbformat_minor": 4
}
